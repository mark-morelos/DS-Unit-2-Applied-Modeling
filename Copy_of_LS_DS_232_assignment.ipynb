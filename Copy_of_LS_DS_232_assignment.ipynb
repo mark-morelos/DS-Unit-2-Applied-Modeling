{
  "nbformat": 4,
  "nbformat_minor": 0,
  "metadata": {
    "jupytext": {
      "cell_metadata_filter": "-all",
      "main_language": "python",
      "notebook_metadata_filter": "-all"
    },
    "kernelspec": {
      "display_name": "Python 3",
      "language": "python",
      "name": "python3"
    },
    "language_info": {
      "codemirror_mode": {
        "name": "ipython",
        "version": 3
      },
      "file_extension": ".py",
      "mimetype": "text/x-python",
      "name": "python",
      "nbconvert_exporter": "python",
      "pygments_lexer": "ipython3",
      "version": "3.7.3"
    },
    "colab": {
      "name": "Copy of LS_DS_232_assignment.ipynb",
      "provenance": [],
      "include_colab_link": true
    }
  },
  "cells": [
    {
      "cell_type": "markdown",
      "metadata": {
        "id": "view-in-github",
        "colab_type": "text"
      },
      "source": [
        "<a href=\"https://colab.research.google.com/github/mark-morelos/DS-Unit-2-Applied-Modeling/blob/master/Copy_of_LS_DS_232_assignment.ipynb\" target=\"_parent\"><img src=\"https://colab.research.google.com/assets/colab-badge.svg\" alt=\"Open In Colab\"/></a>"
      ]
    },
    {
      "cell_type": "markdown",
      "metadata": {
        "id": "yzvOxJHisBxk",
        "colab_type": "text"
      },
      "source": [
        "Lambda School Data Science\n",
        "\n",
        "*Unit 2, Sprint 3, Module 2*\n",
        "\n",
        "---\n",
        "\n",
        "\n",
        "# Wrangle ML datasets\n",
        "\n",
        "- [ ] Continue to clean and explore your data. \n",
        "- [ ] For the evaluation metric you chose, what score would you get just by guessing?\n",
        "- [ ] Can you make a fast, first model that beats guessing?\n",
        "\n",
        "**We recommend that you use your portfolio project dataset for all assignments this sprint.**\n",
        "\n",
        "**But if you aren't ready yet, or you want more practice, then use the New York City property sales dataset for today's assignment.** Follow the instructions below, to just keep a subset for the Tribeca neighborhood, and remove outliers or dirty data. [Here's a video walkthrough](https://youtu.be/pPWFw8UtBVg?t=584) you can refer to if you get stuck or want hints!\n",
        "\n",
        "- Data Source: [NYC OpenData: NYC Citywide Rolling Calendar Sales](https://data.cityofnewyork.us/dataset/NYC-Citywide-Rolling-Calendar-Sales/usep-8jbt)\n",
        "- Glossary: [NYC Department of Finance: Rolling Sales Data](https://www1.nyc.gov/site/finance/taxes/property-rolling-sales-data.page)"
      ]
    },
    {
      "cell_type": "code",
      "metadata": {
        "id": "3KNSoVKdsBxl",
        "colab_type": "code",
        "colab": {}
      },
      "source": [
        "%%capture\n",
        "import sys\n",
        "\n",
        "# If you're on Colab:\n",
        "if 'google.colab' in sys.modules:\n",
        "    DATA_PATH = 'https://raw.githubusercontent.com/LambdaSchool/DS-Unit-2-Applied-Modeling/master/data/'\n",
        "    !pip install category_encoders==2.*\n",
        "    !pip install pandas-profiling==2.*\n",
        "\n",
        "# If you're working locally:\n",
        "else:\n",
        "    DATA_PATH = '../data/'"
      ],
      "execution_count": null,
      "outputs": []
    },
    {
      "cell_type": "code",
      "metadata": {
        "id": "0Usn9N9ZsBxy",
        "colab_type": "code",
        "colab": {}
      },
      "source": [
        "# Read New York City property sales data\n",
        "import pandas as pd\n",
        "df = pd.read_csv(DATA_PATH+'condos/NYC_Citywide_Rolling_Calendar_Sales.csv')"
      ],
      "execution_count": null,
      "outputs": []
    },
    {
      "cell_type": "code",
      "metadata": {
        "id": "NKVCUK09sN13",
        "colab_type": "code",
        "colab": {
          "base_uri": "https://localhost:8080/",
          "height": 411
        },
        "outputId": "fe28193e-fd17-469b-f1d3-8cd0dc429398"
      },
      "source": [
        "# using my project dataset\n",
        "import pandas as pd\n",
        "import numpy as np\n",
        "\n",
        "shelter_outcome = pd.read_csv('sample_data/Animal_Shelter_Intake_and_Outcome.csv')\n",
        "shelter_outcome.head()"
      ],
      "execution_count": 2,
      "outputs": [
        {
          "output_type": "execute_result",
          "data": {
            "text/html": [
              "<div>\n",
              "<style scoped>\n",
              "    .dataframe tbody tr th:only-of-type {\n",
              "        vertical-align: middle;\n",
              "    }\n",
              "\n",
              "    .dataframe tbody tr th {\n",
              "        vertical-align: top;\n",
              "    }\n",
              "\n",
              "    .dataframe thead th {\n",
              "        text-align: right;\n",
              "    }\n",
              "</style>\n",
              "<table border=\"1\" class=\"dataframe\">\n",
              "  <thead>\n",
              "    <tr style=\"text-align: right;\">\n",
              "      <th></th>\n",
              "      <th>Name</th>\n",
              "      <th>Type</th>\n",
              "      <th>Breed</th>\n",
              "      <th>Color</th>\n",
              "      <th>Sex</th>\n",
              "      <th>Size</th>\n",
              "      <th>Date Of Birth</th>\n",
              "      <th>Impound Number</th>\n",
              "      <th>Kennel Number</th>\n",
              "      <th>Animal ID</th>\n",
              "      <th>Intake Date</th>\n",
              "      <th>Outcome Date</th>\n",
              "      <th>Days in Shelter</th>\n",
              "      <th>Intake Type</th>\n",
              "      <th>Intake Subtype</th>\n",
              "      <th>Outcome Type</th>\n",
              "      <th>Outcome Subtype</th>\n",
              "      <th>Intake Condition</th>\n",
              "      <th>Outcome Condition</th>\n",
              "      <th>Intake Jurisdiction</th>\n",
              "      <th>Outcome Jurisdiction</th>\n",
              "      <th>Outcome Zip Code</th>\n",
              "      <th>Location</th>\n",
              "      <th>Count</th>\n",
              "    </tr>\n",
              "  </thead>\n",
              "  <tbody>\n",
              "    <tr>\n",
              "      <th>0</th>\n",
              "      <td>SKY</td>\n",
              "      <td>DOG</td>\n",
              "      <td>GERM SHEPHERD</td>\n",
              "      <td>BLACK/TAN</td>\n",
              "      <td>Female</td>\n",
              "      <td>MED</td>\n",
              "      <td>NaN</td>\n",
              "      <td>K20-035118</td>\n",
              "      <td>DS69</td>\n",
              "      <td>A395686</td>\n",
              "      <td>1/19/20</td>\n",
              "      <td>1/23/20</td>\n",
              "      <td>4</td>\n",
              "      <td>STRAY</td>\n",
              "      <td>FIELD</td>\n",
              "      <td>RETURN TO OWNER</td>\n",
              "      <td>OVER THE COUNTER_CALL</td>\n",
              "      <td>HEALTHY</td>\n",
              "      <td>HEALTHY</td>\n",
              "      <td>COUNTY</td>\n",
              "      <td>COUNTY</td>\n",
              "      <td>95404.0</td>\n",
              "      <td>95404(38.458384, -122.675588)</td>\n",
              "      <td>1</td>\n",
              "    </tr>\n",
              "    <tr>\n",
              "      <th>1</th>\n",
              "      <td>COCO</td>\n",
              "      <td>DOG</td>\n",
              "      <td>BEAGLE</td>\n",
              "      <td>TRICOLOR</td>\n",
              "      <td>Neutered</td>\n",
              "      <td>SMALL</td>\n",
              "      <td>4/6/15</td>\n",
              "      <td>K17-025093</td>\n",
              "      <td>DS83</td>\n",
              "      <td>A379968</td>\n",
              "      <td>8/30/17</td>\n",
              "      <td>10/4/17</td>\n",
              "      <td>35</td>\n",
              "      <td>STRAY</td>\n",
              "      <td>FIELD</td>\n",
              "      <td>TRANSFER</td>\n",
              "      <td>NC AN FRND</td>\n",
              "      <td>UNKNOWN</td>\n",
              "      <td>HEALTHY</td>\n",
              "      <td>SANTA ROSA</td>\n",
              "      <td>OUT OF COUNTY</td>\n",
              "      <td>95758.0</td>\n",
              "      <td>95758(38.424655, -121.438065)</td>\n",
              "      <td>1</td>\n",
              "    </tr>\n",
              "    <tr>\n",
              "      <th>2</th>\n",
              "      <td>BRATT</td>\n",
              "      <td>CAT</td>\n",
              "      <td>DOMESTIC SH</td>\n",
              "      <td>BRN TABBY</td>\n",
              "      <td>Spayed</td>\n",
              "      <td>SMALL</td>\n",
              "      <td>9/1/10</td>\n",
              "      <td>K18-028633</td>\n",
              "      <td>MAC</td>\n",
              "      <td>A374010</td>\n",
              "      <td>6/13/18</td>\n",
              "      <td>8/11/18</td>\n",
              "      <td>59</td>\n",
              "      <td>OWNER SURRENDER</td>\n",
              "      <td>OVER THE COUNTER</td>\n",
              "      <td>ADOPTION</td>\n",
              "      <td>MOB EVENT</td>\n",
              "      <td>TREATABLE/MANAGEABLE</td>\n",
              "      <td>HEALTHY</td>\n",
              "      <td>COUNTY</td>\n",
              "      <td>SANTA ROSA</td>\n",
              "      <td>95405.0</td>\n",
              "      <td>95405(38.439152, -122.672541)</td>\n",
              "      <td>1</td>\n",
              "    </tr>\n",
              "    <tr>\n",
              "      <th>3</th>\n",
              "      <td>DOONA</td>\n",
              "      <td>DOG</td>\n",
              "      <td>PIT BULL</td>\n",
              "      <td>TAN/WHITE</td>\n",
              "      <td>Male</td>\n",
              "      <td>LARGE</td>\n",
              "      <td>7/6/16</td>\n",
              "      <td>K20-035573</td>\n",
              "      <td>DS67</td>\n",
              "      <td>A389249</td>\n",
              "      <td>3/11/20</td>\n",
              "      <td>3/13/20</td>\n",
              "      <td>2</td>\n",
              "      <td>STRAY</td>\n",
              "      <td>FIELD</td>\n",
              "      <td>RETURN TO OWNER</td>\n",
              "      <td>OVER THE COUNTER_NOTICE</td>\n",
              "      <td>HEALTHY</td>\n",
              "      <td>HEALTHY</td>\n",
              "      <td>SANTA ROSA</td>\n",
              "      <td>SANTA ROSA</td>\n",
              "      <td>95409.0</td>\n",
              "      <td>95409(38.458965, -122.630156)</td>\n",
              "      <td>0</td>\n",
              "    </tr>\n",
              "    <tr>\n",
              "      <th>4</th>\n",
              "      <td>SUZIE</td>\n",
              "      <td>DOG</td>\n",
              "      <td>LABRADOR RETR/MIX</td>\n",
              "      <td>BLACK</td>\n",
              "      <td>Spayed</td>\n",
              "      <td>LARGE</td>\n",
              "      <td>1/23/11</td>\n",
              "      <td>K15-012348</td>\n",
              "      <td>DA34</td>\n",
              "      <td>A315553</td>\n",
              "      <td>1/7/15</td>\n",
              "      <td>1/24/15</td>\n",
              "      <td>17</td>\n",
              "      <td>STRAY</td>\n",
              "      <td>OVER THE COUNTER</td>\n",
              "      <td>ADOPTION</td>\n",
              "      <td>INTERNET</td>\n",
              "      <td>HEALTHY</td>\n",
              "      <td>HEALTHY</td>\n",
              "      <td>SANTA ROSA</td>\n",
              "      <td>SANTA ROSA</td>\n",
              "      <td>95404.0</td>\n",
              "      <td>95404(38.458384, -122.675588)</td>\n",
              "      <td>1</td>\n",
              "    </tr>\n",
              "  </tbody>\n",
              "</table>\n",
              "</div>"
            ],
            "text/plain": [
              "    Name Type  ...                       Location Count\n",
              "0    SKY  DOG  ...  95404(38.458384, -122.675588)     1\n",
              "1   COCO  DOG  ...  95758(38.424655, -121.438065)     1\n",
              "2  BRATT  CAT  ...  95405(38.439152, -122.672541)     1\n",
              "3  DOONA  DOG  ...  95409(38.458965, -122.630156)     0\n",
              "4  SUZIE  DOG  ...  95404(38.458384, -122.675588)     1\n",
              "\n",
              "[5 rows x 24 columns]"
            ]
          },
          "metadata": {
            "tags": []
          },
          "execution_count": 2
        }
      ]
    },
    {
      "cell_type": "markdown",
      "metadata": {
        "id": "VnTJyiJIsBx1",
        "colab_type": "text"
      },
      "source": [
        "Your code starts here:"
      ]
    },
    {
      "cell_type": "code",
      "metadata": {
        "id": "qiX2jxyFsBx1",
        "colab_type": "code",
        "colab": {
          "base_uri": "https://localhost:8080/",
          "height": 213
        },
        "outputId": "295fa8fa-85a7-418d-dc37-70917cdc88d9"
      },
      "source": [
        "# Change column names: replace spaces with underscores\n",
        "shelter_outcome.columns = shelter_outcome.columns.str.replace(' ','_')\n",
        "shelter_outcome.head(3)"
      ],
      "execution_count": 3,
      "outputs": [
        {
          "output_type": "execute_result",
          "data": {
            "text/html": [
              "<div>\n",
              "<style scoped>\n",
              "    .dataframe tbody tr th:only-of-type {\n",
              "        vertical-align: middle;\n",
              "    }\n",
              "\n",
              "    .dataframe tbody tr th {\n",
              "        vertical-align: top;\n",
              "    }\n",
              "\n",
              "    .dataframe thead th {\n",
              "        text-align: right;\n",
              "    }\n",
              "</style>\n",
              "<table border=\"1\" class=\"dataframe\">\n",
              "  <thead>\n",
              "    <tr style=\"text-align: right;\">\n",
              "      <th></th>\n",
              "      <th>Name</th>\n",
              "      <th>Type</th>\n",
              "      <th>Breed</th>\n",
              "      <th>Color</th>\n",
              "      <th>Sex</th>\n",
              "      <th>Size</th>\n",
              "      <th>Date_Of_Birth</th>\n",
              "      <th>Impound_Number</th>\n",
              "      <th>Kennel_Number</th>\n",
              "      <th>Animal_ID</th>\n",
              "      <th>Intake_Date</th>\n",
              "      <th>Outcome_Date</th>\n",
              "      <th>Days_in_Shelter</th>\n",
              "      <th>Intake_Type</th>\n",
              "      <th>Intake_Subtype</th>\n",
              "      <th>Outcome_Type</th>\n",
              "      <th>Outcome_Subtype</th>\n",
              "      <th>Intake_Condition</th>\n",
              "      <th>Outcome_Condition</th>\n",
              "      <th>Intake_Jurisdiction</th>\n",
              "      <th>Outcome_Jurisdiction</th>\n",
              "      <th>Outcome_Zip_Code</th>\n",
              "      <th>Location</th>\n",
              "      <th>Count</th>\n",
              "    </tr>\n",
              "  </thead>\n",
              "  <tbody>\n",
              "    <tr>\n",
              "      <th>0</th>\n",
              "      <td>SKY</td>\n",
              "      <td>DOG</td>\n",
              "      <td>GERM SHEPHERD</td>\n",
              "      <td>BLACK/TAN</td>\n",
              "      <td>Female</td>\n",
              "      <td>MED</td>\n",
              "      <td>NaN</td>\n",
              "      <td>K20-035118</td>\n",
              "      <td>DS69</td>\n",
              "      <td>A395686</td>\n",
              "      <td>1/19/20</td>\n",
              "      <td>1/23/20</td>\n",
              "      <td>4</td>\n",
              "      <td>STRAY</td>\n",
              "      <td>FIELD</td>\n",
              "      <td>RETURN TO OWNER</td>\n",
              "      <td>OVER THE COUNTER_CALL</td>\n",
              "      <td>HEALTHY</td>\n",
              "      <td>HEALTHY</td>\n",
              "      <td>COUNTY</td>\n",
              "      <td>COUNTY</td>\n",
              "      <td>95404.0</td>\n",
              "      <td>95404(38.458384, -122.675588)</td>\n",
              "      <td>1</td>\n",
              "    </tr>\n",
              "    <tr>\n",
              "      <th>1</th>\n",
              "      <td>COCO</td>\n",
              "      <td>DOG</td>\n",
              "      <td>BEAGLE</td>\n",
              "      <td>TRICOLOR</td>\n",
              "      <td>Neutered</td>\n",
              "      <td>SMALL</td>\n",
              "      <td>4/6/15</td>\n",
              "      <td>K17-025093</td>\n",
              "      <td>DS83</td>\n",
              "      <td>A379968</td>\n",
              "      <td>8/30/17</td>\n",
              "      <td>10/4/17</td>\n",
              "      <td>35</td>\n",
              "      <td>STRAY</td>\n",
              "      <td>FIELD</td>\n",
              "      <td>TRANSFER</td>\n",
              "      <td>NC AN FRND</td>\n",
              "      <td>UNKNOWN</td>\n",
              "      <td>HEALTHY</td>\n",
              "      <td>SANTA ROSA</td>\n",
              "      <td>OUT OF COUNTY</td>\n",
              "      <td>95758.0</td>\n",
              "      <td>95758(38.424655, -121.438065)</td>\n",
              "      <td>1</td>\n",
              "    </tr>\n",
              "    <tr>\n",
              "      <th>2</th>\n",
              "      <td>BRATT</td>\n",
              "      <td>CAT</td>\n",
              "      <td>DOMESTIC SH</td>\n",
              "      <td>BRN TABBY</td>\n",
              "      <td>Spayed</td>\n",
              "      <td>SMALL</td>\n",
              "      <td>9/1/10</td>\n",
              "      <td>K18-028633</td>\n",
              "      <td>MAC</td>\n",
              "      <td>A374010</td>\n",
              "      <td>6/13/18</td>\n",
              "      <td>8/11/18</td>\n",
              "      <td>59</td>\n",
              "      <td>OWNER SURRENDER</td>\n",
              "      <td>OVER THE COUNTER</td>\n",
              "      <td>ADOPTION</td>\n",
              "      <td>MOB EVENT</td>\n",
              "      <td>TREATABLE/MANAGEABLE</td>\n",
              "      <td>HEALTHY</td>\n",
              "      <td>COUNTY</td>\n",
              "      <td>SANTA ROSA</td>\n",
              "      <td>95405.0</td>\n",
              "      <td>95405(38.439152, -122.672541)</td>\n",
              "      <td>1</td>\n",
              "    </tr>\n",
              "  </tbody>\n",
              "</table>\n",
              "</div>"
            ],
            "text/plain": [
              "    Name Type  ...                       Location Count\n",
              "0    SKY  DOG  ...  95404(38.458384, -122.675588)     1\n",
              "1   COCO  DOG  ...  95758(38.424655, -121.438065)     1\n",
              "2  BRATT  CAT  ...  95405(38.439152, -122.672541)     1\n",
              "\n",
              "[3 rows x 24 columns]"
            ]
          },
          "metadata": {
            "tags": []
          },
          "execution_count": 3
        }
      ]
    },
    {
      "cell_type": "code",
      "metadata": {
        "id": "JVNW5mZUtYg6",
        "colab_type": "code",
        "colab": {
          "base_uri": "https://localhost:8080/",
          "height": 34
        },
        "outputId": "b98a4573-440d-4866-b129-77806db8dc37"
      },
      "source": [
        "# column to be used for predictive model\n",
        "shelter_outcome['Outcome_Type'].describe()\n",
        "shelter_outcome['Outcome_Type'].value_counts(normalize=True)\n",
        "shelter_outcome = shelter_outcome.dropna(subset=['Outcome_Type'])\n",
        "shelter_outcome['Outcome_Type'].isnull().sum()\n",
        "\n",
        "# add a boolean column for True if ADOPTION and False if not for 'Outcome_Type'\n",
        "shelter_outcome['Adopted'] = shelter_outcome['Outcome_Type'] == 'ADOPTION'\n",
        "shelter_outcome['Adopted'].head(5)\n",
        "\n",
        "# target distribution\n",
        "y = shelter_outcome['Adopted']\n",
        "y.value_counts(normalize=True)\n",
        "\n",
        "# data exploration on Intake Type\n",
        "shelter_outcome['Intake_Type'].unique()\n",
        "\n",
        "# high cardinality features\n",
        "shelter_outcome = shelter_outcome.drop(columns=['Name', 'Impound_Number', 'Kennel_Number',\n",
        "                                                'Animal_ID', 'Color', 'Location'])\n",
        "\n",
        "# fill missing values\n",
        "shelter_outcome = shelter_outcome.fillna('No Data')\n",
        "\n",
        "# time-based split using 'Intake_Date'\n",
        "# convert to datetime\n",
        "\n",
        "shelter_outcome['Intake_Date'] = pd.to_datetime(shelter_outcome['Intake_Date'])\n",
        "\n",
        "# create 'Intake_Year' column\n",
        "shelter_outcome['Intake_Year'] = shelter_outcome['Intake_Date'].dt.year \n",
        "\n",
        "# split to training: 2013-2015, val: 2016-2018, test: 2019-2020\n",
        "train = shelter_outcome[shelter_outcome['Intake_Year'] <= 2015]\n",
        "val = shelter_outcome[(shelter_outcome['Intake_Year'] >= 2016) & (shelter_outcome['Intake_Year'] >= 2018)]\n",
        "test = shelter_outcome[shelter_outcome['Intake_Year'] >=2019]\n",
        "\n",
        "# shape of dataframes\n",
        "train.shape, val.shape, test.shape"
      ],
      "execution_count": 5,
      "outputs": [
        {
          "output_type": "execute_result",
          "data": {
            "text/plain": [
              "((6533, 20), (6706, 20), (3629, 20))"
            ]
          },
          "metadata": {
            "tags": []
          },
          "execution_count": 5
        }
      ]
    },
    {
      "cell_type": "code",
      "metadata": {
        "id": "5xRyNKDXv0SV",
        "colab_type": "code",
        "colab": {
          "base_uri": "https://localhost:8080/",
          "height": 292
        },
        "outputId": "6783bc0c-458b-48d5-a893-dfd1e0cfdfaf"
      },
      "source": [
        "%pip install --upgrade category_encoders"
      ],
      "execution_count": 12,
      "outputs": [
        {
          "output_type": "stream",
          "text": [
            "Collecting category_encoders\n",
            "\u001b[?25l  Downloading https://files.pythonhosted.org/packages/44/57/fcef41c248701ee62e8325026b90c432adea35555cbc870aff9cfba23727/category_encoders-2.2.2-py2.py3-none-any.whl (80kB)\n",
            "\r\u001b[K     |████                            | 10kB 17.1MB/s eta 0:00:01\r\u001b[K     |████████▏                       | 20kB 2.8MB/s eta 0:00:01\r\u001b[K     |████████████▏                   | 30kB 3.9MB/s eta 0:00:01\r\u001b[K     |████████████████▎               | 40kB 4.2MB/s eta 0:00:01\r\u001b[K     |████████████████████▎           | 51kB 3.3MB/s eta 0:00:01\r\u001b[K     |████████████████████████▍       | 61kB 3.7MB/s eta 0:00:01\r\u001b[K     |████████████████████████████▍   | 71kB 4.0MB/s eta 0:00:01\r\u001b[K     |████████████████████████████████| 81kB 3.1MB/s \n",
            "\u001b[?25hRequirement already satisfied, skipping upgrade: numpy>=1.14.0 in /usr/local/lib/python3.6/dist-packages (from category_encoders) (1.18.5)\n",
            "Requirement already satisfied, skipping upgrade: pandas>=0.21.1 in /usr/local/lib/python3.6/dist-packages (from category_encoders) (1.0.5)\n",
            "Requirement already satisfied, skipping upgrade: patsy>=0.5.1 in /usr/local/lib/python3.6/dist-packages (from category_encoders) (0.5.1)\n",
            "Requirement already satisfied, skipping upgrade: scikit-learn>=0.20.0 in /usr/local/lib/python3.6/dist-packages (from category_encoders) (0.22.2.post1)\n",
            "Requirement already satisfied, skipping upgrade: statsmodels>=0.9.0 in /usr/local/lib/python3.6/dist-packages (from category_encoders) (0.10.2)\n",
            "Requirement already satisfied, skipping upgrade: scipy>=1.0.0 in /usr/local/lib/python3.6/dist-packages (from category_encoders) (1.4.1)\n",
            "Requirement already satisfied, skipping upgrade: pytz>=2017.2 in /usr/local/lib/python3.6/dist-packages (from pandas>=0.21.1->category_encoders) (2018.9)\n",
            "Requirement already satisfied, skipping upgrade: python-dateutil>=2.6.1 in /usr/local/lib/python3.6/dist-packages (from pandas>=0.21.1->category_encoders) (2.8.1)\n",
            "Requirement already satisfied, skipping upgrade: six in /usr/local/lib/python3.6/dist-packages (from patsy>=0.5.1->category_encoders) (1.15.0)\n",
            "Requirement already satisfied, skipping upgrade: joblib>=0.11 in /usr/local/lib/python3.6/dist-packages (from scikit-learn>=0.20.0->category_encoders) (0.16.0)\n",
            "Installing collected packages: category-encoders\n",
            "Successfully installed category-encoders-2.2.2\n"
          ],
          "name": "stdout"
        }
      ]
    },
    {
      "cell_type": "code",
      "metadata": {
        "id": "2nZC4jszv4a3",
        "colab_type": "code",
        "colab": {
          "base_uri": "https://localhost:8080/",
          "height": 34
        },
        "outputId": "d69d6c49-0e91-4e7c-c122-fe7410792ca9"
      },
      "source": [
        "# evaluation metric = accuracy\n",
        "\n",
        "import category_encoders as ce\n",
        "from sklearn.pipeline import make_pipeline\n",
        "from sklearn.tree import DecisionTreeClassifier\n",
        "\n",
        "# target\n",
        "target = 'Adopted'\n",
        "\n",
        "# set features\n",
        "features = train.columns.drop([target, 'Intake_Date', 'Intake_Year', 'Outcome_Type'])\n",
        "\n",
        "# define X_train, y_train, X_val, and y_val\n",
        "X_train = train[features]\n",
        "y_train = train[target]\n",
        "X_val = val[features]\n",
        "y_val = val[target]\n",
        "\n",
        "# define pipeline\n",
        "pipeline = make_pipeline(\n",
        "    ce.OrdinalEncoder(),\n",
        "    DecisionTreeClassifier(max_depth=3)\n",
        ")\n",
        "\n",
        "# run pipeline on training\n",
        "pipeline.fit(X_train, y_train)\n",
        "\n",
        "# print validation accuracy\n",
        "print('Accuracy', pipeline.score(X_val, y_val))"
      ],
      "execution_count": 15,
      "outputs": [
        {
          "output_type": "stream",
          "text": [
            "Accuracy 0.904264837458992\n"
          ],
          "name": "stdout"
        }
      ]
    },
    {
      "cell_type": "code",
      "metadata": {
        "id": "UFPJOAYIv4mV",
        "colab_type": "code",
        "colab": {
          "base_uri": "https://localhost:8080/",
          "height": 538
        },
        "outputId": "5c7da576-650e-46d5-c218-1be8956fb01a"
      },
      "source": [
        "# visualize decision tree\n",
        "import graphviz\n",
        "from sklearn.tree import export_graphviz\n",
        "\n",
        "tree = pipeline.named_steps['decisiontreeclassifier']\n",
        "\n",
        "dot_data = export_graphviz(\n",
        "    tree,\n",
        "    out_file=None,\n",
        "    feature_names=X_train.columns,\n",
        "    class_names=y_train.unique().astype(str),\n",
        "    filled=True,\n",
        "    impurity=False,\n",
        "    proportion=True\n",
        ")\n",
        "\n",
        "graphviz.Source(dot_data)"
      ],
      "execution_count": 16,
      "outputs": [
        {
          "output_type": "execute_result",
          "data": {
            "text/plain": [
              "<graphviz.files.Source at 0x7f13fb2b9e80>"
            ],
            "image/svg+xml": "<?xml version=\"1.0\" encoding=\"UTF-8\" standalone=\"no\"?>\n<!DOCTYPE svg PUBLIC \"-//W3C//DTD SVG 1.1//EN\"\n \"http://www.w3.org/Graphics/SVG/1.1/DTD/svg11.dtd\">\n<!-- Generated by graphviz version 2.40.1 (20161225.0304)\n -->\n<!-- Title: Tree Pages: 1 -->\n<svg width=\"989pt\" height=\"373pt\"\n viewBox=\"0.00 0.00 989.00 373.00\" xmlns=\"http://www.w3.org/2000/svg\" xmlns:xlink=\"http://www.w3.org/1999/xlink\">\n<g id=\"graph0\" class=\"graph\" transform=\"scale(1 1) rotate(0) translate(4 369)\">\n<title>Tree</title>\n<polygon fill=\"#ffffff\" stroke=\"transparent\" points=\"-4,4 -4,-369 985,-369 985,4 -4,4\"/>\n<!-- 0 -->\n<g id=\"node1\" class=\"node\">\n<title>0</title>\n<polygon fill=\"#f4ccae\" stroke=\"#000000\" points=\"585,-365 410,-365 410,-297 585,-297 585,-365\"/>\n<text text-anchor=\"middle\" x=\"497.5\" y=\"-349.8\" font-family=\"Times,serif\" font-size=\"14.00\" fill=\"#000000\">Outcome_Subtype &lt;= 10.5</text>\n<text text-anchor=\"middle\" x=\"497.5\" y=\"-334.8\" font-family=\"Times,serif\" font-size=\"14.00\" fill=\"#000000\">samples = 100.0%</text>\n<text text-anchor=\"middle\" x=\"497.5\" y=\"-319.8\" font-family=\"Times,serif\" font-size=\"14.00\" fill=\"#000000\">value = [0.628, 0.372]</text>\n<text text-anchor=\"middle\" x=\"497.5\" y=\"-304.8\" font-family=\"Times,serif\" font-size=\"14.00\" fill=\"#000000\">class = True</text>\n</g>\n<!-- 1 -->\n<g id=\"node2\" class=\"node\">\n<title>1</title>\n<polygon fill=\"#9ccef2\" stroke=\"#000000\" points=\"484,-261 329,-261 329,-193 484,-193 484,-261\"/>\n<text text-anchor=\"middle\" x=\"406.5\" y=\"-245.8\" font-family=\"Times,serif\" font-size=\"14.00\" fill=\"#000000\">Days_in_Shelter &lt;= 5.5</text>\n<text text-anchor=\"middle\" x=\"406.5\" y=\"-230.8\" font-family=\"Times,serif\" font-size=\"14.00\" fill=\"#000000\">samples = 48.8%</text>\n<text text-anchor=\"middle\" x=\"406.5\" y=\"-215.8\" font-family=\"Times,serif\" font-size=\"14.00\" fill=\"#000000\">value = [0.334, 0.666]</text>\n<text text-anchor=\"middle\" x=\"406.5\" y=\"-200.8\" font-family=\"Times,serif\" font-size=\"14.00\" fill=\"#000000\">class = False</text>\n</g>\n<!-- 0&#45;&gt;1 -->\n<g id=\"edge1\" class=\"edge\">\n<title>0&#45;&gt;1</title>\n<path fill=\"none\" stroke=\"#000000\" d=\"M467.7032,-296.9465C459.847,-287.968 451.2788,-278.1758 443.1087,-268.8385\"/>\n<polygon fill=\"#000000\" stroke=\"#000000\" points=\"445.5829,-266.351 436.3637,-261.13 440.3148,-270.9606 445.5829,-266.351\"/>\n<text text-anchor=\"middle\" x=\"434.7008\" y=\"-282.3746\" font-family=\"Times,serif\" font-size=\"14.00\" fill=\"#000000\">True</text>\n</g>\n<!-- 8 -->\n<g id=\"node9\" class=\"node\">\n<title>8</title>\n<polygon fill=\"#e88e4d\" stroke=\"#000000\" points=\"677,-261 502,-261 502,-193 677,-193 677,-261\"/>\n<text text-anchor=\"middle\" x=\"589.5\" y=\"-245.8\" font-family=\"Times,serif\" font-size=\"14.00\" fill=\"#000000\">Outcome_Subtype &lt;= 28.5</text>\n<text text-anchor=\"middle\" x=\"589.5\" y=\"-230.8\" font-family=\"Times,serif\" font-size=\"14.00\" fill=\"#000000\">samples = 51.2%</text>\n<text text-anchor=\"middle\" x=\"589.5\" y=\"-215.8\" font-family=\"Times,serif\" font-size=\"14.00\" fill=\"#000000\">value = [0.909, 0.091]</text>\n<text text-anchor=\"middle\" x=\"589.5\" y=\"-200.8\" font-family=\"Times,serif\" font-size=\"14.00\" fill=\"#000000\">class = True</text>\n</g>\n<!-- 0&#45;&gt;8 -->\n<g id=\"edge8\" class=\"edge\">\n<title>0&#45;&gt;8</title>\n<path fill=\"none\" stroke=\"#000000\" d=\"M527.6242,-296.9465C535.5668,-287.968 544.2291,-278.1758 552.489,-268.8385\"/>\n<polygon fill=\"#000000\" stroke=\"#000000\" points=\"555.3038,-270.939 559.3081,-261.13 550.0608,-266.301 555.3038,-270.939\"/>\n<text text-anchor=\"middle\" x=\"560.8358\" y=\"-282.3833\" font-family=\"Times,serif\" font-size=\"14.00\" fill=\"#000000\">False</text>\n</g>\n<!-- 2 -->\n<g id=\"node3\" class=\"node\">\n<title>2</title>\n<polygon fill=\"#e9965a\" stroke=\"#000000\" points=\"319,-157 152,-157 152,-89 319,-89 319,-157\"/>\n<text text-anchor=\"middle\" x=\"235.5\" y=\"-141.8\" font-family=\"Times,serif\" font-size=\"14.00\" fill=\"#000000\">Outcome_Subtype &lt;= 6.5</text>\n<text text-anchor=\"middle\" x=\"235.5\" y=\"-126.8\" font-family=\"Times,serif\" font-size=\"14.00\" fill=\"#000000\">samples = 15.4%</text>\n<text text-anchor=\"middle\" x=\"235.5\" y=\"-111.8\" font-family=\"Times,serif\" font-size=\"14.00\" fill=\"#000000\">value = [0.857, 0.143]</text>\n<text text-anchor=\"middle\" x=\"235.5\" y=\"-96.8\" font-family=\"Times,serif\" font-size=\"14.00\" fill=\"#000000\">class = True</text>\n</g>\n<!-- 1&#45;&gt;2 -->\n<g id=\"edge2\" class=\"edge\">\n<title>1&#45;&gt;2</title>\n<path fill=\"none\" stroke=\"#000000\" d=\"M350.5082,-192.9465C334.4168,-183.1599 316.7359,-172.4066 300.1666,-162.3294\"/>\n<polygon fill=\"#000000\" stroke=\"#000000\" points=\"301.9802,-159.336 291.6176,-157.13 298.3428,-165.3167 301.9802,-159.336\"/>\n</g>\n<!-- 5 -->\n<g id=\"node6\" class=\"node\">\n<title>5</title>\n<polygon fill=\"#4da7e8\" stroke=\"#000000\" points=\"484,-157 337,-157 337,-89 484,-89 484,-157\"/>\n<text text-anchor=\"middle\" x=\"410.5\" y=\"-141.8\" font-family=\"Times,serif\" font-size=\"14.00\" fill=\"#000000\">Sex &lt;= 2.5</text>\n<text text-anchor=\"middle\" x=\"410.5\" y=\"-126.8\" font-family=\"Times,serif\" font-size=\"14.00\" fill=\"#000000\">samples = 33.4%</text>\n<text text-anchor=\"middle\" x=\"410.5\" y=\"-111.8\" font-family=\"Times,serif\" font-size=\"14.00\" fill=\"#000000\">value = [0.093, 0.907]</text>\n<text text-anchor=\"middle\" x=\"410.5\" y=\"-96.8\" font-family=\"Times,serif\" font-size=\"14.00\" fill=\"#000000\">class = False</text>\n</g>\n<!-- 1&#45;&gt;5 -->\n<g id=\"edge5\" class=\"edge\">\n<title>1&#45;&gt;5</title>\n<path fill=\"none\" stroke=\"#000000\" d=\"M407.8097,-192.9465C408.124,-184.776 408.4642,-175.9318 408.7935,-167.3697\"/>\n<polygon fill=\"#000000\" stroke=\"#000000\" points=\"412.3003,-167.2572 409.1873,-157.13 405.3055,-166.9881 412.3003,-167.2572\"/>\n</g>\n<!-- 3 -->\n<g id=\"node4\" class=\"node\">\n<title>3</title>\n<polygon fill=\"#e78844\" stroke=\"#000000\" points=\"147,-53 0,-53 0,0 147,0 147,-53\"/>\n<text text-anchor=\"middle\" x=\"73.5\" y=\"-37.8\" font-family=\"Times,serif\" font-size=\"14.00\" fill=\"#000000\">samples = 13.7%</text>\n<text text-anchor=\"middle\" x=\"73.5\" y=\"-22.8\" font-family=\"Times,serif\" font-size=\"14.00\" fill=\"#000000\">value = [0.945, 0.055]</text>\n<text text-anchor=\"middle\" x=\"73.5\" y=\"-7.8\" font-family=\"Times,serif\" font-size=\"14.00\" fill=\"#000000\">class = True</text>\n</g>\n<!-- 2&#45;&gt;3 -->\n<g id=\"edge3\" class=\"edge\">\n<title>2&#45;&gt;3</title>\n<path fill=\"none\" stroke=\"#000000\" d=\"M178.3849,-88.9777C161.7059,-79.0424 143.5431,-68.2232 127.0906,-58.4228\"/>\n<polygon fill=\"#000000\" stroke=\"#000000\" points=\"128.529,-55.2058 118.1466,-53.095 124.9467,-61.2197 128.529,-55.2058\"/>\n</g>\n<!-- 4 -->\n<g id=\"node5\" class=\"node\">\n<title>4</title>\n<polygon fill=\"#5fb0ea\" stroke=\"#000000\" points=\"312,-53 165,-53 165,0 312,0 312,-53\"/>\n<text text-anchor=\"middle\" x=\"238.5\" y=\"-37.8\" font-family=\"Times,serif\" font-size=\"14.00\" fill=\"#000000\">samples = 1.7%</text>\n<text text-anchor=\"middle\" x=\"238.5\" y=\"-22.8\" font-family=\"Times,serif\" font-size=\"14.00\" fill=\"#000000\">value = [0.159, 0.841]</text>\n<text text-anchor=\"middle\" x=\"238.5\" y=\"-7.8\" font-family=\"Times,serif\" font-size=\"14.00\" fill=\"#000000\">class = False</text>\n</g>\n<!-- 2&#45;&gt;4 -->\n<g id=\"edge4\" class=\"edge\">\n<title>2&#45;&gt;4</title>\n<path fill=\"none\" stroke=\"#000000\" d=\"M236.5577,-88.9777C236.8139,-80.7364 237.089,-71.887 237.3493,-63.5153\"/>\n<polygon fill=\"#000000\" stroke=\"#000000\" points=\"240.8559,-63.3524 237.6684,-53.2485 233.8593,-63.1349 240.8559,-63.3524\"/>\n</g>\n<!-- 6 -->\n<g id=\"node7\" class=\"node\">\n<title>6</title>\n<polygon fill=\"#46a3e7\" stroke=\"#000000\" points=\"482,-53 335,-53 335,0 482,0 482,-53\"/>\n<text text-anchor=\"middle\" x=\"408.5\" y=\"-37.8\" font-family=\"Times,serif\" font-size=\"14.00\" fill=\"#000000\">samples = 31.3%</text>\n<text text-anchor=\"middle\" x=\"408.5\" y=\"-22.8\" font-family=\"Times,serif\" font-size=\"14.00\" fill=\"#000000\">value = [0.062, 0.938]</text>\n<text text-anchor=\"middle\" x=\"408.5\" y=\"-7.8\" font-family=\"Times,serif\" font-size=\"14.00\" fill=\"#000000\">class = False</text>\n</g>\n<!-- 5&#45;&gt;6 -->\n<g id=\"edge6\" class=\"edge\">\n<title>5&#45;&gt;6</title>\n<path fill=\"none\" stroke=\"#000000\" d=\"M409.7949,-88.9777C409.6241,-80.7364 409.4407,-71.887 409.2672,-63.5153\"/>\n<polygon fill=\"#000000\" stroke=\"#000000\" points=\"412.7609,-63.1738 409.0544,-53.2485 405.7624,-63.3189 412.7609,-63.1738\"/>\n</g>\n<!-- 7 -->\n<g id=\"node8\" class=\"node\">\n<title>7</title>\n<polygon fill=\"#fae6d8\" stroke=\"#000000\" points=\"647,-53 500,-53 500,0 647,0 647,-53\"/>\n<text text-anchor=\"middle\" x=\"573.5\" y=\"-37.8\" font-family=\"Times,serif\" font-size=\"14.00\" fill=\"#000000\">samples = 2.1%</text>\n<text text-anchor=\"middle\" x=\"573.5\" y=\"-22.8\" font-family=\"Times,serif\" font-size=\"14.00\" fill=\"#000000\">value = [0.555, 0.445]</text>\n<text text-anchor=\"middle\" x=\"573.5\" y=\"-7.8\" font-family=\"Times,serif\" font-size=\"14.00\" fill=\"#000000\">class = True</text>\n</g>\n<!-- 5&#45;&gt;7 -->\n<g id=\"edge7\" class=\"edge\">\n<title>5&#45;&gt;7</title>\n<path fill=\"none\" stroke=\"#000000\" d=\"M467.9677,-88.9777C484.7496,-79.0424 503.0246,-68.2232 519.5786,-58.4228\"/>\n<polygon fill=\"#000000\" stroke=\"#000000\" points=\"521.7558,-61.2013 528.5778,-53.095 518.1897,-55.1777 521.7558,-61.2013\"/>\n</g>\n<!-- 9 -->\n<g id=\"node10\" class=\"node\">\n<title>9</title>\n<polygon fill=\"#e58139\" stroke=\"#000000\" points=\"640,-149.5 523,-149.5 523,-96.5 640,-96.5 640,-149.5\"/>\n<text text-anchor=\"middle\" x=\"581.5\" y=\"-134.3\" font-family=\"Times,serif\" font-size=\"14.00\" fill=\"#000000\">samples = 34.2%</text>\n<text text-anchor=\"middle\" x=\"581.5\" y=\"-119.3\" font-family=\"Times,serif\" font-size=\"14.00\" fill=\"#000000\">value = [1.0, 0.0]</text>\n<text text-anchor=\"middle\" x=\"581.5\" y=\"-104.3\" font-family=\"Times,serif\" font-size=\"14.00\" fill=\"#000000\">class = True</text>\n</g>\n<!-- 8&#45;&gt;9 -->\n<g id=\"edge9\" class=\"edge\">\n<title>8&#45;&gt;9</title>\n<path fill=\"none\" stroke=\"#000000\" d=\"M586.8805,-192.9465C586.0586,-182.2621 585.1481,-170.4254 584.3134,-159.5742\"/>\n<polygon fill=\"#000000\" stroke=\"#000000\" points=\"587.7985,-159.2442 583.5417,-149.5422 580.8191,-159.7812 587.7985,-159.2442\"/>\n</g>\n<!-- 10 -->\n<g id=\"node11\" class=\"node\">\n<title>10</title>\n<polygon fill=\"#efb184\" stroke=\"#000000\" points=\"833,-157 658,-157 658,-89 833,-89 833,-157\"/>\n<text text-anchor=\"middle\" x=\"745.5\" y=\"-141.8\" font-family=\"Times,serif\" font-size=\"14.00\" fill=\"#000000\">Outcome_Subtype &lt;= 34.5</text>\n<text text-anchor=\"middle\" x=\"745.5\" y=\"-126.8\" font-family=\"Times,serif\" font-size=\"14.00\" fill=\"#000000\">samples = 17.0%</text>\n<text text-anchor=\"middle\" x=\"745.5\" y=\"-111.8\" font-family=\"Times,serif\" font-size=\"14.00\" fill=\"#000000\">value = [0.725, 0.275]</text>\n<text text-anchor=\"middle\" x=\"745.5\" y=\"-96.8\" font-family=\"Times,serif\" font-size=\"14.00\" fill=\"#000000\">class = True</text>\n</g>\n<!-- 8&#45;&gt;10 -->\n<g id=\"edge10\" class=\"edge\">\n<title>8&#45;&gt;10</title>\n<path fill=\"none\" stroke=\"#000000\" d=\"M640.5802,-192.9465C654.9908,-183.3395 670.7986,-172.8009 685.6728,-162.8848\"/>\n<polygon fill=\"#000000\" stroke=\"#000000\" points=\"687.926,-165.5892 694.305,-157.13 684.043,-159.7649 687.926,-165.5892\"/>\n</g>\n<!-- 11 -->\n<g id=\"node12\" class=\"node\">\n<title>11</title>\n<polygon fill=\"#b6dbf5\" stroke=\"#000000\" points=\"816,-53 669,-53 669,0 816,0 816,-53\"/>\n<text text-anchor=\"middle\" x=\"742.5\" y=\"-37.8\" font-family=\"Times,serif\" font-size=\"14.00\" fill=\"#000000\">samples = 5.3%</text>\n<text text-anchor=\"middle\" x=\"742.5\" y=\"-22.8\" font-family=\"Times,serif\" font-size=\"14.00\" fill=\"#000000\">value = [0.388, 0.612]</text>\n<text text-anchor=\"middle\" x=\"742.5\" y=\"-7.8\" font-family=\"Times,serif\" font-size=\"14.00\" fill=\"#000000\">class = False</text>\n</g>\n<!-- 10&#45;&gt;11 -->\n<g id=\"edge11\" class=\"edge\">\n<title>10&#45;&gt;11</title>\n<path fill=\"none\" stroke=\"#000000\" d=\"M744.4423,-88.9777C744.1861,-80.7364 743.911,-71.887 743.6507,-63.5153\"/>\n<polygon fill=\"#000000\" stroke=\"#000000\" points=\"747.1407,-63.1349 743.3316,-53.2485 740.1441,-63.3524 747.1407,-63.1349\"/>\n</g>\n<!-- 12 -->\n<g id=\"node13\" class=\"node\">\n<title>12</title>\n<polygon fill=\"#e99254\" stroke=\"#000000\" points=\"981,-53 834,-53 834,0 981,0 981,-53\"/>\n<text text-anchor=\"middle\" x=\"907.5\" y=\"-37.8\" font-family=\"Times,serif\" font-size=\"14.00\" fill=\"#000000\">samples = 11.6%</text>\n<text text-anchor=\"middle\" x=\"907.5\" y=\"-22.8\" font-family=\"Times,serif\" font-size=\"14.00\" fill=\"#000000\">value = [0.879, 0.121]</text>\n<text text-anchor=\"middle\" x=\"907.5\" y=\"-7.8\" font-family=\"Times,serif\" font-size=\"14.00\" fill=\"#000000\">class = True</text>\n</g>\n<!-- 10&#45;&gt;12 -->\n<g id=\"edge12\" class=\"edge\">\n<title>10&#45;&gt;12</title>\n<path fill=\"none\" stroke=\"#000000\" d=\"M802.6151,-88.9777C819.2941,-79.0424 837.4569,-68.2232 853.9094,-58.4228\"/>\n<polygon fill=\"#000000\" stroke=\"#000000\" points=\"856.0533,-61.2197 862.8534,-53.095 852.471,-55.2058 856.0533,-61.2197\"/>\n</g>\n</g>\n</svg>\n"
          },
          "metadata": {
            "tags": []
          },
          "execution_count": 16
        }
      ]
    },
    {
      "cell_type": "code",
      "metadata": {
        "id": "GxBPdMg6v4uD",
        "colab_type": "code",
        "colab": {
          "base_uri": "https://localhost:8080/",
          "height": 68
        },
        "outputId": "587a8be2-2c6a-41d7-99c1-2d3f7b7a63d8"
      },
      "source": [
        "# distribution of classes\n",
        "y.value_counts(normalize=True)"
      ],
      "execution_count": 17,
      "outputs": [
        {
          "output_type": "execute_result",
          "data": {
            "text/plain": [
              "False    0.679252\n",
              "True     0.320748\n",
              "Name: Adopted, dtype: float64"
            ]
          },
          "metadata": {
            "tags": []
          },
          "execution_count": 17
        }
      ]
    },
    {
      "cell_type": "code",
      "metadata": {
        "id": "jLiscsJTv41K",
        "colab_type": "code",
        "colab": {
          "base_uri": "https://localhost:8080/",
          "height": 34
        },
        "outputId": "7d77cd52-38b5-42ef-ad36-43ba222d3935"
      },
      "source": [
        "# calculate ROC AUC with sklearn\n",
        "from sklearn.metrics import roc_auc_score\n",
        "\n",
        "# predicted probabilities\n",
        "y_pred_proba = pipeline.predict_proba(X_val)[:, -1]\n",
        "\n",
        "# calculate AUC\n",
        "auc = roc_auc_score(y_val, y_pred_proba)\n",
        "\n",
        "auc"
      ],
      "execution_count": 18,
      "outputs": [
        {
          "output_type": "execute_result",
          "data": {
            "text/plain": [
              "0.9425365753168826"
            ]
          },
          "metadata": {
            "tags": []
          },
          "execution_count": 18
        }
      ]
    },
    {
      "cell_type": "code",
      "metadata": {
        "id": "cPMbKPGvv46c",
        "colab_type": "code",
        "colab": {
          "base_uri": "https://localhost:8080/",
          "height": 297
        },
        "outputId": "3ae53991-50da-47fa-f0de-1bee5bae5a56"
      },
      "source": [
        "# calculate True Positive Rate (TPR) & False Positive Rate (FPR) at various thresholds\n",
        "from sklearn.metrics import roc_curve\n",
        "\n",
        "fpr, tpr, thresholds = roc_curve(y_val, y_pred_proba)\n",
        "\n",
        "# table results\n",
        "pd.DataFrame({\n",
        "    'False Positive Rate': fpr,\n",
        "    'True Positive Rate': tpr,\n",
        "    'Threshold': thresholds\n",
        "})"
      ],
      "execution_count": 19,
      "outputs": [
        {
          "output_type": "execute_result",
          "data": {
            "text/html": [
              "<div>\n",
              "<style scoped>\n",
              "    .dataframe tbody tr th:only-of-type {\n",
              "        vertical-align: middle;\n",
              "    }\n",
              "\n",
              "    .dataframe tbody tr th {\n",
              "        vertical-align: top;\n",
              "    }\n",
              "\n",
              "    .dataframe thead th {\n",
              "        text-align: right;\n",
              "    }\n",
              "</style>\n",
              "<table border=\"1\" class=\"dataframe\">\n",
              "  <thead>\n",
              "    <tr style=\"text-align: right;\">\n",
              "      <th></th>\n",
              "      <th>False Positive Rate</th>\n",
              "      <th>True Positive Rate</th>\n",
              "      <th>Threshold</th>\n",
              "    </tr>\n",
              "  </thead>\n",
              "  <tbody>\n",
              "    <tr>\n",
              "      <th>0</th>\n",
              "      <td>0.000000</td>\n",
              "      <td>0.000000</td>\n",
              "      <td>1.938416</td>\n",
              "    </tr>\n",
              "    <tr>\n",
              "      <th>1</th>\n",
              "      <td>0.066774</td>\n",
              "      <td>0.812100</td>\n",
              "      <td>0.938416</td>\n",
              "    </tr>\n",
              "    <tr>\n",
              "      <th>2</th>\n",
              "      <td>0.071185</td>\n",
              "      <td>0.842350</td>\n",
              "      <td>0.840708</td>\n",
              "    </tr>\n",
              "    <tr>\n",
              "      <th>3</th>\n",
              "      <td>0.098456</td>\n",
              "      <td>0.912158</td>\n",
              "      <td>0.612069</td>\n",
              "    </tr>\n",
              "    <tr>\n",
              "      <th>4</th>\n",
              "      <td>0.165831</td>\n",
              "      <td>0.959860</td>\n",
              "      <td>0.445255</td>\n",
              "    </tr>\n",
              "    <tr>\n",
              "      <th>5</th>\n",
              "      <td>0.308201</td>\n",
              "      <td>0.962769</td>\n",
              "      <td>0.120894</td>\n",
              "    </tr>\n",
              "    <tr>\n",
              "      <th>6</th>\n",
              "      <td>0.516342</td>\n",
              "      <td>1.000000</td>\n",
              "      <td>0.054871</td>\n",
              "    </tr>\n",
              "    <tr>\n",
              "      <th>7</th>\n",
              "      <td>1.000000</td>\n",
              "      <td>1.000000</td>\n",
              "      <td>0.000000</td>\n",
              "    </tr>\n",
              "  </tbody>\n",
              "</table>\n",
              "</div>"
            ],
            "text/plain": [
              "   False Positive Rate  True Positive Rate  Threshold\n",
              "0             0.000000            0.000000   1.938416\n",
              "1             0.066774            0.812100   0.938416\n",
              "2             0.071185            0.842350   0.840708\n",
              "3             0.098456            0.912158   0.612069\n",
              "4             0.165831            0.959860   0.445255\n",
              "5             0.308201            0.962769   0.120894\n",
              "6             0.516342            1.000000   0.054871\n",
              "7             1.000000            1.000000   0.000000"
            ]
          },
          "metadata": {
            "tags": []
          },
          "execution_count": 19
        }
      ]
    },
    {
      "cell_type": "code",
      "metadata": {
        "id": "lRDdYT452RzK",
        "colab_type": "code",
        "colab": {}
      },
      "source": [
        "# plot results (ROC Curve)\n",
        "import matplotlib.pyplot as plt\n",
        "plt.scatter(fpr, tpr)\n",
        "plt.plot(fpr, tpr)\n",
        "plt.title('ROC curve')\n",
        "plt.xlabel('False Positive Rate')\n",
        "plt.ylabel('True Positive Rate');"
      ],
      "execution_count": 22,
      "outputs": []
    },
    {
      "cell_type": "code",
      "metadata": {
        "id": "Sczmy9v7sBx6",
        "colab_type": "code",
        "colab": {}
      },
      "source": [
        "# Keep just the subset of data for the Tribeca neighborhood\n",
        "# Check how many rows you have now. (Should go down from > 20k rows to 146)\n"
      ],
      "execution_count": null,
      "outputs": []
    },
    {
      "cell_type": "code",
      "metadata": {
        "id": "9_DgiQ4isByC",
        "colab_type": "code",
        "colab": {}
      },
      "source": [
        "# Q. What's the date range of these property sales in Tribeca?\n"
      ],
      "execution_count": null,
      "outputs": []
    },
    {
      "cell_type": "code",
      "metadata": {
        "id": "ivOL5_4dsByF",
        "colab_type": "code",
        "colab": {}
      },
      "source": [
        "# The Pandas Profiling Report showed that SALE_PRICE was read as strings\n",
        "# Convert it to integers\n"
      ],
      "execution_count": null,
      "outputs": []
    },
    {
      "cell_type": "code",
      "metadata": {
        "id": "1KUmN4IRsByI",
        "colab_type": "code",
        "colab": {}
      },
      "source": [
        "# Q. What is the maximum SALE_PRICE in this dataset?\n"
      ],
      "execution_count": null,
      "outputs": []
    },
    {
      "cell_type": "code",
      "metadata": {
        "id": "MP3mMi9AsByK",
        "colab_type": "code",
        "colab": {}
      },
      "source": [
        "# Look at the row with the max SALE_PRICE\n"
      ],
      "execution_count": null,
      "outputs": []
    },
    {
      "cell_type": "code",
      "metadata": {
        "id": "U4E0Wk6nsByN",
        "colab_type": "code",
        "colab": {}
      },
      "source": [
        "# Get value counts of TOTAL_UNITS\n",
        "# Q. How many property sales were for multiple units?\n"
      ],
      "execution_count": null,
      "outputs": []
    },
    {
      "cell_type": "code",
      "metadata": {
        "id": "nfyQO7VssByP",
        "colab_type": "code",
        "colab": {}
      },
      "source": [
        "# Keep only the single units\n"
      ],
      "execution_count": null,
      "outputs": []
    },
    {
      "cell_type": "code",
      "metadata": {
        "id": "4qy6R38ssByc",
        "colab_type": "code",
        "colab": {}
      },
      "source": [
        "# Q. Now what is the max sales price? How many square feet does it have?\n"
      ],
      "execution_count": null,
      "outputs": []
    },
    {
      "cell_type": "code",
      "metadata": {
        "id": "yBh2-0F_sByn",
        "colab_type": "code",
        "colab": {}
      },
      "source": [
        "# Q. How often did $0 sales occur in this subset of the data?\n",
        "\n",
        "# There's a glossary here: \n",
        "# https://www1.nyc.gov/site/finance/taxes/property-rolling-sales-data.page\n",
        "\n",
        "# It says:\n",
        "# A $0 sale indicates that there was a transfer of ownership without a \n",
        "# cash consideration. There can be a number of reasons for a $0 sale including \n",
        "# transfers of ownership from parents to children. \n",
        "\n"
      ],
      "execution_count": null,
      "outputs": []
    },
    {
      "cell_type": "code",
      "metadata": {
        "id": "jVqBXUlXsByr",
        "colab_type": "code",
        "colab": {}
      },
      "source": [
        "# Look at property sales for > 5,000 square feet\n",
        "# Q. What is the highest square footage you see?\n"
      ],
      "execution_count": null,
      "outputs": []
    },
    {
      "cell_type": "code",
      "metadata": {
        "id": "4kYTPG4TsByt",
        "colab_type": "code",
        "colab": {}
      },
      "source": [
        "# What are the building class categories?\n",
        "# How frequently does each occur?\n"
      ],
      "execution_count": null,
      "outputs": []
    },
    {
      "cell_type": "code",
      "metadata": {
        "id": "E1aZt7EosByy",
        "colab_type": "code",
        "colab": {}
      },
      "source": [
        "# Keep subset of rows:\n",
        "# Sale price more than $0, \n",
        "# Building class category = Condos - Elevator Apartments\n",
        "\n",
        "# Check how many rows you have now. (Should be 106 rows.)\n"
      ],
      "execution_count": null,
      "outputs": []
    },
    {
      "cell_type": "code",
      "metadata": {
        "id": "7nl37_uesBy1",
        "colab_type": "code",
        "colab": {}
      },
      "source": [
        "# Make a Plotly Express scatter plot of GROSS_SQUARE_FEET vs SALE_PRICE\n"
      ],
      "execution_count": null,
      "outputs": []
    },
    {
      "cell_type": "code",
      "metadata": {
        "id": "XOStHMCusBy3",
        "colab_type": "code",
        "colab": {}
      },
      "source": [
        "# Add an OLS (Ordinary Least Squares) trendline,\n",
        "# to see how the outliers influence the \"line of best fit\"\n"
      ],
      "execution_count": null,
      "outputs": []
    },
    {
      "cell_type": "code",
      "metadata": {
        "id": "yf4ev85EsBy6",
        "colab_type": "code",
        "colab": {}
      },
      "source": [
        "# Look at sales for more than $35 million\n",
        "\n",
        "# All are at 70 Vestry Street\n",
        "# All but one have the same SALE_PRICE & SALE_DATE\n",
        "# Was the SALE_PRICE for each? Or in total?\n",
        "# Is this dirty data?\n"
      ],
      "execution_count": null,
      "outputs": []
    },
    {
      "cell_type": "code",
      "metadata": {
        "id": "WnS8QOOpsBy-",
        "colab_type": "code",
        "colab": {}
      },
      "source": [
        "# Make a judgment call:\n",
        "# Keep rows where sale price was < $35 million\n",
        "\n",
        "# Check how many rows you have now. (Should be down to 90 rows.)\n"
      ],
      "execution_count": null,
      "outputs": []
    },
    {
      "cell_type": "code",
      "metadata": {
        "id": "BtyAZx0_sBzH",
        "colab_type": "code",
        "colab": {}
      },
      "source": [
        "# Now that you've removed outliers,\n",
        "# Look again at a scatter plot with OLS (Ordinary Least Squares) trendline\n"
      ],
      "execution_count": null,
      "outputs": []
    },
    {
      "cell_type": "code",
      "metadata": {
        "id": "WjcPDja1sBzJ",
        "colab_type": "code",
        "colab": {}
      },
      "source": [
        "# Select these columns, then write to a csv file named tribeca.csv. Don't include the index.\n"
      ],
      "execution_count": null,
      "outputs": []
    }
  ]
}